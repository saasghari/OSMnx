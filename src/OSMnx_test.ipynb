{
  "cells": [
    {
      "cell_type": "markdown",
      "id": "6986e0e0",
      "metadata": {
        "id": "6986e0e0"
      },
      "source": [
        "# **OSMnx Test**\n",
        "##### In this project we test OSMnx python package instructions."
      ]
    },
    {
      "cell_type": "code",
      "execution_count": null,
      "id": "1c24ac1e",
      "metadata": {
        "colab": {
          "base_uri": "https://localhost:8080/"
        },
        "id": "1c24ac1e",
        "outputId": "4a71b08f-9092-4f10-bd02-82ebca466639"
      },
      "outputs": [],
      "source": [
        "# if using colab, install dependencies by un-commenting the line below\n",
        "#!uv pip install --system --quiet osmnx[all]\n",
        "\n",
        "# or this command\n",
        "#!pip install osmnx"
      ]
    },
    {
      "cell_type": "code",
      "execution_count": 5,
      "id": "3c97cef7",
      "metadata": {},
      "outputs": [
        {
          "data": {
            "text/plain": [
              "'2.0.5'"
            ]
          },
          "execution_count": 5,
          "metadata": {},
          "output_type": "execute_result"
        }
      ],
      "source": [
        "import networkx as nx\n",
        "import osmnx as ox\n",
        "\n",
        "ox.__version__"
      ]
    },
    {
      "cell_type": "markdown",
      "id": "2af03687",
      "metadata": {},
      "source": [
        "### Working with street networks"
      ]
    },
    {
      "cell_type": "code",
      "execution_count": 6,
      "id": "12dc2ba5",
      "metadata": {},
      "outputs": [
        {
          "ename": "ImportError",
          "evalue": "matplotlib must be installed as an optional dependency for visualization.",
          "output_type": "error",
          "traceback": [
            "\u001b[31m---------------------------------------------------------------------------\u001b[39m",
            "\u001b[31mImportError\u001b[39m                               Traceback (most recent call last)",
            "\u001b[36mCell\u001b[39m\u001b[36m \u001b[39m\u001b[32mIn[6]\u001b[39m\u001b[32m, line 4\u001b[39m\n\u001b[32m      1\u001b[39m \u001b[38;5;66;03m# <1>\u001b[39;00m\n\u001b[32m      2\u001b[39m \u001b[38;5;66;03m# download/model a street network for some city then visualize it\u001b[39;00m\n\u001b[32m      3\u001b[39m G = ox.graph.graph_from_place(\u001b[33m\"\u001b[39m\u001b[33mPiedmont, California, USA\u001b[39m\u001b[33m\"\u001b[39m, network_type=\u001b[33m\"\u001b[39m\u001b[33mdrive\u001b[39m\u001b[33m\"\u001b[39m)\n\u001b[32m----> \u001b[39m\u001b[32m4\u001b[39m fig, ax = \u001b[43mox\u001b[49m\u001b[43m.\u001b[49m\u001b[43mplot\u001b[49m\u001b[43m.\u001b[49m\u001b[43mplot_graph\u001b[49m\u001b[43m(\u001b[49m\u001b[43mG\u001b[49m\u001b[43m)\u001b[49m\n",
            "\u001b[36mFile \u001b[39m\u001b[32mf:\\Projects\\Trajectory\\prjs\\OSMnx\\OSMnx_venv\\Lib\\site-packages\\osmnx\\plot.py:243\u001b[39m, in \u001b[36mplot_graph\u001b[39m\u001b[34m(G, ax, figsize, bgcolor, node_color, node_size, node_alpha, node_edgecolor, node_zorder, edge_color, edge_linewidth, edge_alpha, bbox, show, close, save, filepath, dpi)\u001b[39m\n\u001b[32m    170\u001b[39m \u001b[38;5;28;01mdef\u001b[39;00m\u001b[38;5;250m \u001b[39m\u001b[34mplot_graph\u001b[39m(  \u001b[38;5;66;03m# noqa: PLR0913\u001b[39;00m\n\u001b[32m    171\u001b[39m     G: nx.MultiGraph | nx.MultiDiGraph,\n\u001b[32m    172\u001b[39m     *,\n\u001b[32m   (...)\u001b[39m\u001b[32m    189\u001b[39m     dpi: \u001b[38;5;28mint\u001b[39m = \u001b[32m300\u001b[39m,\n\u001b[32m    190\u001b[39m ) -> \u001b[38;5;28mtuple\u001b[39m[Figure, Axes]:\n\u001b[32m    191\u001b[39m \u001b[38;5;250m    \u001b[39m\u001b[33;03m\"\"\"\u001b[39;00m\n\u001b[32m    192\u001b[39m \u001b[33;03m    Visualize a graph.\u001b[39;00m\n\u001b[32m    193\u001b[39m \n\u001b[32m   (...)\u001b[39m\u001b[32m    241\u001b[39m \u001b[33;03m        The resulting matplotlib figure and axes objects.\u001b[39;00m\n\u001b[32m    242\u001b[39m \u001b[33;03m    \"\"\"\u001b[39;00m\n\u001b[32m--> \u001b[39m\u001b[32m243\u001b[39m     \u001b[43m_verify_mpl\u001b[49m\u001b[43m(\u001b[49m\u001b[43m)\u001b[49m\n\u001b[32m    244\u001b[39m     max_node_size = \u001b[38;5;28mmax\u001b[39m(node_size) \u001b[38;5;28;01mif\u001b[39;00m \u001b[38;5;28misinstance\u001b[39m(node_size, Sequence) \u001b[38;5;28;01melse\u001b[39;00m node_size\n\u001b[32m    245\u001b[39m     max_edge_lw = \u001b[38;5;28mmax\u001b[39m(edge_linewidth) \u001b[38;5;28;01mif\u001b[39;00m \u001b[38;5;28misinstance\u001b[39m(edge_linewidth, Sequence) \u001b[38;5;28;01melse\u001b[39;00m edge_linewidth\n",
            "\u001b[36mFile \u001b[39m\u001b[32mf:\\Projects\\Trajectory\\prjs\\OSMnx\\OSMnx_venv\\Lib\\site-packages\\osmnx\\plot.py:1067\u001b[39m, in \u001b[36m_verify_mpl\u001b[39m\u001b[34m()\u001b[39m\n\u001b[32m   1065\u001b[39m \u001b[38;5;28;01mif\u001b[39;00m \u001b[38;5;129;01mnot\u001b[39;00m mpl_available:  \u001b[38;5;66;03m# pragma: no cover\u001b[39;00m\n\u001b[32m   1066\u001b[39m     msg = \u001b[33m\"\u001b[39m\u001b[33mmatplotlib must be installed as an optional dependency for visualization.\u001b[39m\u001b[33m\"\u001b[39m\n\u001b[32m-> \u001b[39m\u001b[32m1067\u001b[39m     \u001b[38;5;28;01mraise\u001b[39;00m \u001b[38;5;167;01mImportError\u001b[39;00m(msg)\n",
            "\u001b[31mImportError\u001b[39m: matplotlib must be installed as an optional dependency for visualization."
          ]
        }
      ],
      "source": [
        "# <1>\n",
        "# download/model a street network for some city then visualize it\n",
        "G = ox.graph.graph_from_place(\"Piedmont, California, USA\", network_type=\"drive\")\n",
        "fig, ax = ox.plot.plot_graph(G)"
      ]
    }
  ],
  "metadata": {
    "colab": {
      "provenance": []
    },
    "kernelspec": {
      "display_name": "OSMnx_venv",
      "language": "python",
      "name": "python3"
    },
    "language_info": {
      "codemirror_mode": {
        "name": "ipython",
        "version": 3
      },
      "file_extension": ".py",
      "mimetype": "text/x-python",
      "name": "python",
      "nbconvert_exporter": "python",
      "pygments_lexer": "ipython3",
      "version": "3.12.5"
    }
  },
  "nbformat": 4,
  "nbformat_minor": 5
}

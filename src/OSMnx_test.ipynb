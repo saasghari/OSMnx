{
  "cells": [
    {
      "cell_type": "markdown",
      "id": "6986e0e0",
      "metadata": {
        "id": "6986e0e0"
      },
      "source": [
        "# **OSMnx Test**\n",
        "##### In this project we test OSMnx python package instructions."
      ]
    },
    {
      "cell_type": "code",
      "execution_count": null,
      "id": "1c24ac1e",
      "metadata": {
        "colab": {
          "base_uri": "https://localhost:8080/"
        },
        "id": "1c24ac1e",
        "outputId": "4a71b08f-9092-4f10-bd02-82ebca466639"
      },
      "outputs": [],
      "source": [
        "# if using colab, install dependencies by un-commenting the line below\n",
        "#!uv pip install --system --quiet osmnx[all]\n",
        "\n",
        "# or this command\n",
        "#!pip install osmnx"
      ]
    },
    {
      "cell_type": "code",
      "execution_count": 1,
      "id": "3c97cef7",
      "metadata": {},
      "outputs": [
        {
          "data": {
            "text/plain": [
              "'2.0.5'"
            ]
          },
          "execution_count": 1,
          "metadata": {},
          "output_type": "execute_result"
        }
      ],
      "source": [
        "import networkx as nx\n",
        "import osmnx as ox\n",
        "\n",
        "ox.__version__"
      ]
    }
  ],
  "metadata": {
    "colab": {
      "provenance": []
    },
    "kernelspec": {
      "display_name": "Python 3",
      "language": "python",
      "name": "python3"
    },
    "language_info": {
      "codemirror_mode": {
        "name": "ipython",
        "version": 3
      },
      "file_extension": ".py",
      "mimetype": "text/x-python",
      "name": "python",
      "nbconvert_exporter": "python",
      "pygments_lexer": "ipython3",
      "version": "3.12.5"
    }
  },
  "nbformat": 4,
  "nbformat_minor": 5
}
